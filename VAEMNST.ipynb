{
 "cells": [
  {
   "cell_type": "code",
   "execution_count": 25,
   "metadata": {
    "id": "Bw_AnkL6UXyd"
   },
   "outputs": [],
   "source": [
    "import torch\n",
    "import torchvision\n",
    "from torchvision.utils import save_image"
   ]
  },
  {
   "cell_type": "code",
   "execution_count": 26,
   "metadata": {
    "id": "g8q6SQDvUtAg"
   },
   "outputs": [
    {
     "name": "stdout",
     "output_type": "stream",
     "text": [
      "Available devices  0\n"
     ]
    }
   ],
   "source": [
    "print ('Available devices ', torch.cuda.device_count())"
   ]
  },
  {
   "cell_type": "code",
   "execution_count": null,
   "metadata": {
    "id": "edT07pp4WX2a"
   },
   "outputs": [],
   "source": []
  },
  {
   "cell_type": "code",
   "execution_count": 27,
   "metadata": {
    "id": "vqPECF1BYurj"
   },
   "outputs": [],
   "source": [
    "from torchvision.transforms import ToTensor\n",
    "from torch.utils.data import DataLoader\n",
    "from torchvision import datasets, transforms\n",
    "import torch.optim as optim\n",
    "transformation = transforms.Compose([transforms.ToTensor()])\n",
    "train_data_raw=torchvision.datasets.MNIST(root='./data', train=True, download=True, transform=transformation)\n",
    "test_data_raw=torchvision.datasets.MNIST(root='./data', train=False, download=True,transform=transformation)\n",
    "train_data=DataLoader(train_data_raw,batch_size=100,shuffle=True)\n",
    "test_data=DataLoader(test_data_raw,batch_size=100,shuffle=True)"
   ]
  },
  {
   "cell_type": "code",
   "execution_count": 28,
   "metadata": {
    "colab": {
     "base_uri": "https://localhost:8080/"
    },
    "id": "XHNNHLz-a-TT",
    "outputId": "69635059-b9d9-43ca-c8ca-819910d389c4"
   },
   "outputs": [
    {
     "name": "stdout",
     "output_type": "stream",
     "text": [
      "torch.Size([1, 28, 28])\n",
      "['0 - zero', '1 - one', '2 - two', '3 - three', '4 - four', '5 - five', '6 - six', '7 - seven', '8 - eight', '9 - nine']\n"
     ]
    }
   ],
   "source": [
    "test=next(iter(train_data))\n",
    "print(test[0][0].shape)\n",
    "class_names=train_data_raw.classes\n",
    "print(class_names)"
   ]
  },
  {
   "cell_type": "code",
   "execution_count": 29,
   "metadata": {
    "id": "A4vNfNFheLhz"
   },
   "outputs": [],
   "source": [
    "import torch.nn as nn\n",
    "import torch.nn.functional as F\n",
    "class Classifier(nn.Module):\n",
    "    \n",
    "    def __init__(self):\n",
    "        super().__init__()\n",
    "        self.conv1=nn.Conv2d(1,20,5)\n",
    "        self.conv2=nn.Conv2d(20,50,5)\n",
    "        self.fc1 = nn.Linear(4 * 4 * 50, 500)\n",
    "        self.fc2 = nn.Linear(500, 10)\n",
    "    \n",
    "    def forward(self, x: torch.Tensor):\n",
    "        x=F.max_pool2d(F.relu(self.conv1(x)),2,2)\n",
    "        x=F.max_pool2d(F.relu(self.conv2(x)),2,2)\n",
    "        x=x.view(-1,4*4*50)\n",
    "        x=F.relu(self.fc1(x))\n",
    "        x=self.fc2(x)\n",
    "        return F.log_softmax(x,dim=1)\n",
    "\n",
    "classifier=Classifier()\n"
   ]
  },
  {
   "cell_type": "code",
   "execution_count": null,
   "metadata": {
    "id": "5uZkgax6Q-Ey"
   },
   "outputs": [],
   "source": []
  },
  {
   "cell_type": "code",
   "execution_count": 30,
   "metadata": {
    "id": "AyeErCapmiU2"
   },
   "outputs": [],
   "source": [
    "\n",
    "\n",
    "\n",
    "def train_step_classifier(classifier: torch.nn.Module,\n",
    "               dataloader: torch.utils.data.DataLoader, \n",
    "               criterion: torch.nn.Module, \n",
    "               optimizer: torch.optim.Optimizer):\n",
    "    # Put model in train mode\n",
    "    classifier.train()\n",
    "    \n",
    "    \n",
    "    # Setup train loss and train accuracy values\n",
    "    train_loss=0\n",
    "    \n",
    "    # Loop through data loader data batches\n",
    "    for batch, (X, y) in enumerate(dataloader):\n",
    "\n",
    "        \n",
    "        optimizer.zero_grad()\n",
    "        \n",
    "        # 1. calc real loss\n",
    "        y_pred = classifier(X)\n",
    "        \n",
    "        loss = criterion(y_pred, y)\n",
    "       \n",
    "\n",
    "        # 3. Loss backward\n",
    "        loss.backward()\n",
    "       \n",
    "        # 4. Optimizer step for disc\n",
    "        optimizer.step()\n",
    "        \n",
    "        #train the generator now\n",
    "       \n",
    "        train_loss+=loss.item()\n",
    "\n",
    "        \n",
    "       \n",
    "\n",
    "    # Adjust metrics to get average loss and accuracy per batch \n",
    "    train_loss = train_loss / len(dataloader)\n",
    "    return train_loss"
   ]
  },
  {
   "cell_type": "code",
   "execution_count": null,
   "metadata": {
    "id": "d5DwDLXBO2Rt"
   },
   "outputs": [],
   "source": []
  },
  {
   "cell_type": "code",
   "execution_count": 31,
   "metadata": {
    "id": "9MTkaf7hnlHr"
   },
   "outputs": [],
   "source": [
    "from tqdm.auto import tqdm\n",
    "\n",
    "# 1. Take in various parameters required for training and test steps\n",
    "def train_class(classifier: torch.nn.Module,\n",
    "          train_dataloader: torch.utils.data.DataLoader, \n",
    "          test_dataloader: torch.utils.data.DataLoader, \n",
    "          epochs: int = 5):\n",
    "    loss_fn = nn.NLLLoss() \n",
    "    optimizer = optim.Adam(params=classifier.parameters(), lr=0.0002)\n",
    "    \n",
    "    \n",
    "    # 2. Create empty results dictionary\n",
    "    results = {\"train_loss\": [],\n",
    "        \"train_acc\": [],\n",
    "        \"test_loss\": [],\n",
    "        \"test_acc\": [],\n",
    "        \"sample_images\":[]\n",
    "    }\n",
    "    \n",
    "    # 3. Loop through training and testing steps for a number of epochs\n",
    "    for epoch in tqdm(range(epochs)):\n",
    "        train_loss = train_step_classifier(classifier=classifier,\n",
    "                                           dataloader=train_dataloader,\n",
    "                                           criterion=loss_fn,\n",
    "                                           optimizer=optimizer)\n",
    "        \n",
    "        correct=0\n",
    "        total=0\n",
    "\n",
    "        with torch.no_grad():\n",
    "            classifier.eval()\n",
    "            for batch, (X, y) in enumerate(test_dataloader):\n",
    "                outputs = classifier(X)\n",
    "      \n",
    "                # Set total and correct\n",
    "                _, predicted = torch.max(outputs.data, 1)\n",
    "                correct += (predicted == y).sum().item()\n",
    "                total+=y.size(0)\n",
    "        \n",
    "        test_loss=(correct/total)*100\n",
    "        \n",
    "        # 4. Print out what's happening\n",
    "        print(\n",
    "            f\"Epoch: {epoch+1} | \"\n",
    "            f\"train_loss: {train_loss:.4f} | \"\n",
    "            f\"test_accuracy: {test_loss:.4f} | \"\n",
    "        )\n",
    "\n",
    "        \n",
    "    # 6. Return the filled results at the end of the epochs\n",
    "    return results"
   ]
  },
  {
   "cell_type": "code",
   "execution_count": 32,
   "metadata": {
    "colab": {
     "base_uri": "https://localhost:8080/",
     "height": 49,
     "referenced_widgets": [
      "e1511fecd4014a59a8c8f054532f44ed",
      "6e8759bdd74748608d267c86a7fe1bd4",
      "3fe74d49adc24b89a3e19f222b38fc58",
      "f5947a24cc9343fb974a6efb304a9ab0",
      "f03beba4661b4a6688adca5e34c6c479",
      "bd11c5ae2cb24372956cf6e9e43a5aad",
      "5a6e5ed58a5345748c60df8e379f2892",
      "a9e13022b04f46d6854e6a51c965fa8f",
      "a8aeef2d75654476bcbe332aa655ce09",
      "4396494a1f4e42b9a2f2b151a5e44026",
      "f3b2a4633cdb49d18ad4487b6c9a606c"
     ]
    },
    "id": "ujTyagQSnw73",
    "outputId": "bb09d37c-0488-402f-e936-aa37be82467c"
   },
   "outputs": [
    {
     "name": "stdout",
     "output_type": "stream",
     "text": [
      "Total training time: 0.000 seconds\n"
     ]
    }
   ],
   "source": [
    "\n",
    "# Set number of epochs\n",
    "NUM_EPOCHS = 10\n",
    "\n",
    "\n",
    "\n",
    "\n",
    "\n",
    "# Start the timer\n",
    "from timeit import default_timer as timer \n",
    "start_time = timer()\n",
    "\n",
    "# Train model_0 \n",
    "# model_results = train_class(classifier=classifier, \n",
    "#                         train_dataloader=train_data,\n",
    "#                         test_dataloader=test_data,\n",
    "#                         epochs=NUM_EPOCHS)\n",
    "\n",
    "# End the timer and print out how long it took\n",
    "end_time = timer()\n",
    "print(f\"Total training time: {end_time-start_time:.3f} seconds\")"
   ]
  },
  {
   "cell_type": "code",
   "execution_count": 33,
   "metadata": {
    "id": "EOdIwTJutbTO"
   },
   "outputs": [
    {
     "name": "stdout",
     "output_type": "stream",
     "text": [
      "VAE(\n",
      "  (conv1): Conv2d(1, 20, kernel_size=(5, 5), stride=(1, 1))\n",
      "  (conv2): Conv2d(20, 50, kernel_size=(5, 5), stride=(1, 1))\n",
      "  (fc1): Linear(in_features=800, out_features=500, bias=True)\n",
      "  (fc2): Linear(in_features=500, out_features=250, bias=True)\n",
      "  (fc3): Linear(in_features=250, out_features=3, bias=True)\n",
      "  (fc4): Linear(in_features=250, out_features=3, bias=True)\n",
      "  (dfc1): Linear(in_features=3, out_features=250, bias=True)\n",
      "  (dfc2): Linear(in_features=250, out_features=500, bias=True)\n",
      "  (dfc3): Linear(in_features=500, out_features=784, bias=True)\n",
      ")\n"
     ]
    }
   ],
   "source": [
    "class VAE(nn.Module):\n",
    "    def __init__(self):\n",
    "        super(VAE,self).__init__()\n",
    "        #encoder layers\n",
    "        self.conv1=nn.Conv2d(1,20,5)\n",
    "        self.conv2=nn.Conv2d(20,50,5)\n",
    "        self.fc1 = nn.Linear(4 * 4 * 50, 500)\n",
    "        \n",
    "        self.fc2=nn.Linear(500,250)\n",
    "        #mu\n",
    "        self.fc3=nn.Linear(250,3)\n",
    "        #log_var\n",
    "        self.fc4=nn.Linear(250,3)\n",
    "\n",
    "        #decoder layers\n",
    "        self.dfc1=nn.Linear(3,250)\n",
    "        self.dfc2=nn.Linear(250,500)\n",
    "        self.dfc3=nn.Linear(500,784)\n",
    "\n",
    "    def encode(self,x):\n",
    "        x=F.max_pool2d(F.relu(self.conv1(x)),2,2)\n",
    "        x=F.max_pool2d(F.relu(self.conv2(x)),2,2)\n",
    "        x=x.view(-1,4*4*50)\n",
    "        x=F.relu(self.fc1(x))\n",
    "        x=F.relu(self.fc2(x))\n",
    "        mu=self.fc3(x)\n",
    "        var=self.fc4(x)\n",
    "        return mu, var\n",
    "    \n",
    "    def decode(self,z):\n",
    "        val=F.relu(self.dfc1(z))\n",
    "        val=F.relu(self.dfc2(val))\n",
    "        val=torch.sigmoid(self.dfc3(val))\n",
    "        return val\n",
    "    \n",
    "    def sample(self, mu, var):\n",
    "        deviation=torch.exp(0.5*var)\n",
    "        epsilon=torch.randn_like(deviation)\n",
    "        sample=torch.mul(deviation,epsilon).add_(mu) \n",
    "        return sample\n",
    "    \n",
    "    def forward(self,x):\n",
    "        mu, var=self.encode(x)\n",
    "        z=self.sample(mu=mu,var=var)\n",
    "        value=self.decode(z)\n",
    "        return value,mu,var\n",
    "\n",
    "vae=VAE()\n",
    "print(vae)\n",
    "\n",
    "    \n"
   ]
  },
  {
   "cell_type": "code",
   "execution_count": 34,
   "metadata": {
    "id": "pILDx-taLqSv"
   },
   "outputs": [],
   "source": [
    "\n",
    "\n",
    "\n",
    "def calc_loss(x_hat, x, mu, var, loss_fcn):\n",
    "    CE_loss=F.binary_cross_entropy(x_hat,x.view(-1,784), reduction='sum')\n",
    "    KL_diverge=-0.5 * torch.sum(1 + var - mu.pow(2) - var.exp())\n",
    "    return CE_loss+KL_diverge"
   ]
  },
  {
   "cell_type": "code",
   "execution_count": 35,
   "metadata": {},
   "outputs": [],
   "source": [
    "def train_step_VAE(model: torch.nn.Module,\n",
    "                   loss_fcn: torch.nn.Module,\n",
    "               dataloader: torch.utils.data.DataLoader, \n",
    "               optimizer: torch.optim.Optimizer):\n",
    "    # Put model in train mode\n",
    "    model.train()\n",
    "    \n",
    "    \n",
    "    # Setup train loss and train accuracy values\n",
    "    train_loss=0\n",
    "    \n",
    "    # Loop through data loader data batches\n",
    "    for batch, (X, y) in enumerate(dataloader):\n",
    "\n",
    "        \n",
    "        optimizer.zero_grad()\n",
    "        \n",
    "        # 1. calc real loss\n",
    "        y_pred, mu, var = model(X)\n",
    "        \n",
    "        loss = calc_loss(y_pred, X, mu, var, loss_fcn)\n",
    "       \n",
    "\n",
    "        # 3. Loss backward\n",
    "        loss.backward()\n",
    "        train_loss+=loss.item()\n",
    "       \n",
    "        # 4. Optimizer step for disc\n",
    "        optimizer.step()\n",
    "        \n",
    "        #train the generator now\n",
    "       \n",
    "        \n",
    "\n",
    "        \n",
    "       \n",
    "\n",
    "    # Adjust metrics to get average loss and accuracy per batch \n",
    "    train_loss = train_loss / len(dataloader)\n",
    "    return train_loss"
   ]
  },
  {
   "cell_type": "code",
   "execution_count": 36,
   "metadata": {},
   "outputs": [],
   "source": [
    "# 1. Take in various parameters required for training and test steps\n",
    "def train_VAE(model: torch.nn.Module,\n",
    "          train_dataloader: torch.utils.data.DataLoader, \n",
    "          test_dataloader: torch.utils.data.DataLoader, \n",
    "          epochs: int = 5):\n",
    "    loss_fcn=nn.BCELoss(reduction='sum') \n",
    "    optimizer=optim.Adam(model.parameters())\n",
    "    \n",
    "    \n",
    "    # 2. Create empty results dictionary\n",
    "    results = {\"train_loss\": [],\n",
    "        \"train_acc\": [],\n",
    "        \"test_loss\": [],\n",
    "        \"test_acc\": [],\n",
    "        \"sample_images\":[]\n",
    "    }\n",
    "    \n",
    "    # 3. Loop through training and testing steps for a number of epochs\n",
    "    for epoch in tqdm(range(epochs)):\n",
    "        train_loss = train_step_VAE(model=model,\n",
    "                                           dataloader=train_dataloader,\n",
    "                                           loss_fcn=loss_fcn,\n",
    "                                           optimizer=optimizer)\n",
    "        \n",
    "        test_loss=0\n",
    "     \n",
    "\n",
    "        with torch.no_grad():\n",
    "            model.eval()\n",
    "            for batch, (X, y) in enumerate(test_dataloader):\n",
    "               \n",
    "                y_pred, mu, var = model(X)\n",
    "        \n",
    "                loss = calc_loss(y_pred, X, mu, var, loss_fcn)\n",
    "                test_loss+=loss.item()\n",
    "        \n",
    "        test_loss=test_loss/len(test_dataloader)\n",
    "        \n",
    "        # 4. Print out what's happening\n",
    "        print(\n",
    "            f\"Epoch: {epoch+1} | \"\n",
    "            f\"train_loss: {train_loss:.4f} | \"\n",
    "            f\"test_accuracy: {test_loss:.4f} | \"\n",
    "        )\n",
    "\n",
    "        \n",
    "    # 6. Return the filled results at the end of the epochs\n",
    "    return results"
   ]
  },
  {
   "cell_type": "code",
   "execution_count": 37,
   "metadata": {},
   "outputs": [
    {
     "data": {
      "application/vnd.jupyter.widget-view+json": {
       "model_id": "9fe610eb79694101867cb161b7818a1b",
       "version_major": 2,
       "version_minor": 0
      },
      "text/plain": [
       "  0%|          | 0/100 [00:00<?, ?it/s]"
      ]
     },
     "metadata": {},
     "output_type": "display_data"
    },
    {
     "name": "stdout",
     "output_type": "stream",
     "text": [
      "Epoch: 1 | train_loss: 19565.0016 | test_accuracy: 17194.4602 | \n",
      "Epoch: 2 | train_loss: 15895.7881 | test_accuracy: 14754.6964 | \n",
      "Epoch: 3 | train_loss: 14380.4064 | test_accuracy: 14161.2181 | \n",
      "Epoch: 4 | train_loss: 13978.4315 | test_accuracy: 13967.1058 | \n",
      "Epoch: 5 | train_loss: 13753.0183 | test_accuracy: 13753.6557 | \n",
      "Epoch: 6 | train_loss: 13565.3587 | test_accuracy: 13494.6531 | \n",
      "Epoch: 7 | train_loss: 13424.9965 | test_accuracy: 13417.3702 | \n",
      "Epoch: 8 | train_loss: 13320.3721 | test_accuracy: 13313.0271 | \n"
     ]
    }
   ],
   "source": [
    "NUM_EPOCHS = 100\n",
    "\n",
    "\n",
    "\n",
    "\n",
    "\n",
    "# Start the timer\n",
    "from timeit import default_timer as timer \n",
    "start_time = timer()\n",
    "\n",
    "# Train model_0 \n",
    "model_results = train_VAE(model=vae, \n",
    "                        train_dataloader=train_data,\n",
    "                        test_dataloader=test_data,\n",
    "                        epochs=NUM_EPOCHS)\n",
    "\n",
    "# End the timer and print out how long it took\n",
    "end_time = timer()\n",
    "print(f\"Total training time: {end_time-start_time:.3f} seconds\")"
   ]
  },
  {
   "cell_type": "code",
   "execution_count": null,
   "metadata": {},
   "outputs": [],
   "source": [
    "with torch.no_grad():\n",
    "    z = torch.randn(64, 3)\n",
    "    sample = vae.decode(z)\n",
    "    \n",
    "    save_image(sample.view(64, 1, 28, 28), './vae_samples/sample_' + '.png')"
   ]
  },
  {
   "cell_type": "code",
   "execution_count": null,
   "metadata": {},
   "outputs": [],
   "source": [
    "import numpy as np\n",
    "import matplotlib.pyplot as plt\n",
    "from torchvision.utils import make_grid\n",
    "device='cpu'\n",
    "with torch.no_grad():\n",
    "  # Create empty (x, y) grid\n",
    "  latent_x = np.linspace(-1.5, 1.5, 20)\n",
    "  latent_y = np.linspace(-1.5, 1.5, 20)\n",
    "  latents = torch.FloatTensor(len(latent_x), len(latent_y), 3)\n",
    "  # Fill up the grid\n",
    "  for i, lx in enumerate(latent_x):\n",
    "    for j, ly in enumerate(latent_y):\n",
    "      latents[j, i, 0] = lx\n",
    "      latents[j, i, 1] = ly\n",
    "  # Flatten the grid\n",
    "  latents = latents.view(-1, 3)\n",
    "  # Send to GPU\n",
    "  latents = latents.to(device)\n",
    "  # Find their representation\n",
    "  reconstructions = vae.decode(latents).view(-1, 1, 28, 28)\n",
    "  reconstructions = reconstructions.cpu()\n",
    "  # Finally, plot\n",
    "  fig, ax = plt.subplots(figsize=(10, 10))\n",
    "  plt.imshow(np.transpose(make_grid(reconstructions.data[:400], 20, 5).clamp(0, 1).numpy(), (1, 2, 0))) "
   ]
  },
  {
   "cell_type": "code",
   "execution_count": null,
   "metadata": {},
   "outputs": [],
   "source": []
  }
 ],
 "metadata": {
  "colab": {
   "provenance": []
  },
  "kernelspec": {
   "display_name": "Python 3 (ipykernel)",
   "language": "python",
   "name": "python3"
  },
  "language_info": {
   "codemirror_mode": {
    "name": "ipython",
    "version": 3
   },
   "file_extension": ".py",
   "mimetype": "text/x-python",
   "name": "python",
   "nbconvert_exporter": "python",
   "pygments_lexer": "ipython3",
   "version": "3.10.6"
  },
  "vscode": {
   "interpreter": {
    "hash": "7e1998ff7f8aa20ada591c520b972326324e5ea05489af9e422744c7c09f6dad"
   }
  },
  "widgets": {
   "application/vnd.jupyter.widget-state+json": {
    "3fe74d49adc24b89a3e19f222b38fc58": {
     "model_module": "@jupyter-widgets/controls",
     "model_module_version": "1.5.0",
     "model_name": "FloatProgressModel",
     "state": {
      "_dom_classes": [],
      "_model_module": "@jupyter-widgets/controls",
      "_model_module_version": "1.5.0",
      "_model_name": "FloatProgressModel",
      "_view_count": null,
      "_view_module": "@jupyter-widgets/controls",
      "_view_module_version": "1.5.0",
      "_view_name": "ProgressView",
      "bar_style": "",
      "description": "",
      "description_tooltip": null,
      "layout": "IPY_MODEL_a9e13022b04f46d6854e6a51c965fa8f",
      "max": 1,
      "min": 0,
      "orientation": "horizontal",
      "style": "IPY_MODEL_a8aeef2d75654476bcbe332aa655ce09",
      "value": 0
     }
    },
    "4396494a1f4e42b9a2f2b151a5e44026": {
     "model_module": "@jupyter-widgets/base",
     "model_module_version": "1.2.0",
     "model_name": "LayoutModel",
     "state": {
      "_model_module": "@jupyter-widgets/base",
      "_model_module_version": "1.2.0",
      "_model_name": "LayoutModel",
      "_view_count": null,
      "_view_module": "@jupyter-widgets/base",
      "_view_module_version": "1.2.0",
      "_view_name": "LayoutView",
      "align_content": null,
      "align_items": null,
      "align_self": null,
      "border": null,
      "bottom": null,
      "display": null,
      "flex": null,
      "flex_flow": null,
      "grid_area": null,
      "grid_auto_columns": null,
      "grid_auto_flow": null,
      "grid_auto_rows": null,
      "grid_column": null,
      "grid_gap": null,
      "grid_row": null,
      "grid_template_areas": null,
      "grid_template_columns": null,
      "grid_template_rows": null,
      "height": null,
      "justify_content": null,
      "justify_items": null,
      "left": null,
      "margin": null,
      "max_height": null,
      "max_width": null,
      "min_height": null,
      "min_width": null,
      "object_fit": null,
      "object_position": null,
      "order": null,
      "overflow": null,
      "overflow_x": null,
      "overflow_y": null,
      "padding": null,
      "right": null,
      "top": null,
      "visibility": null,
      "width": null
     }
    },
    "5a6e5ed58a5345748c60df8e379f2892": {
     "model_module": "@jupyter-widgets/controls",
     "model_module_version": "1.5.0",
     "model_name": "DescriptionStyleModel",
     "state": {
      "_model_module": "@jupyter-widgets/controls",
      "_model_module_version": "1.5.0",
      "_model_name": "DescriptionStyleModel",
      "_view_count": null,
      "_view_module": "@jupyter-widgets/base",
      "_view_module_version": "1.2.0",
      "_view_name": "StyleView",
      "description_width": ""
     }
    },
    "6e8759bdd74748608d267c86a7fe1bd4": {
     "model_module": "@jupyter-widgets/controls",
     "model_module_version": "1.5.0",
     "model_name": "HTMLModel",
     "state": {
      "_dom_classes": [],
      "_model_module": "@jupyter-widgets/controls",
      "_model_module_version": "1.5.0",
      "_model_name": "HTMLModel",
      "_view_count": null,
      "_view_module": "@jupyter-widgets/controls",
      "_view_module_version": "1.5.0",
      "_view_name": "HTMLView",
      "description": "",
      "description_tooltip": null,
      "layout": "IPY_MODEL_bd11c5ae2cb24372956cf6e9e43a5aad",
      "placeholder": "​",
      "style": "IPY_MODEL_5a6e5ed58a5345748c60df8e379f2892",
      "value": "  0%"
     }
    },
    "a8aeef2d75654476bcbe332aa655ce09": {
     "model_module": "@jupyter-widgets/controls",
     "model_module_version": "1.5.0",
     "model_name": "ProgressStyleModel",
     "state": {
      "_model_module": "@jupyter-widgets/controls",
      "_model_module_version": "1.5.0",
      "_model_name": "ProgressStyleModel",
      "_view_count": null,
      "_view_module": "@jupyter-widgets/base",
      "_view_module_version": "1.2.0",
      "_view_name": "StyleView",
      "bar_color": null,
      "description_width": ""
     }
    },
    "a9e13022b04f46d6854e6a51c965fa8f": {
     "model_module": "@jupyter-widgets/base",
     "model_module_version": "1.2.0",
     "model_name": "LayoutModel",
     "state": {
      "_model_module": "@jupyter-widgets/base",
      "_model_module_version": "1.2.0",
      "_model_name": "LayoutModel",
      "_view_count": null,
      "_view_module": "@jupyter-widgets/base",
      "_view_module_version": "1.2.0",
      "_view_name": "LayoutView",
      "align_content": null,
      "align_items": null,
      "align_self": null,
      "border": null,
      "bottom": null,
      "display": null,
      "flex": null,
      "flex_flow": null,
      "grid_area": null,
      "grid_auto_columns": null,
      "grid_auto_flow": null,
      "grid_auto_rows": null,
      "grid_column": null,
      "grid_gap": null,
      "grid_row": null,
      "grid_template_areas": null,
      "grid_template_columns": null,
      "grid_template_rows": null,
      "height": null,
      "justify_content": null,
      "justify_items": null,
      "left": null,
      "margin": null,
      "max_height": null,
      "max_width": null,
      "min_height": null,
      "min_width": null,
      "object_fit": null,
      "object_position": null,
      "order": null,
      "overflow": null,
      "overflow_x": null,
      "overflow_y": null,
      "padding": null,
      "right": null,
      "top": null,
      "visibility": null,
      "width": null
     }
    },
    "bd11c5ae2cb24372956cf6e9e43a5aad": {
     "model_module": "@jupyter-widgets/base",
     "model_module_version": "1.2.0",
     "model_name": "LayoutModel",
     "state": {
      "_model_module": "@jupyter-widgets/base",
      "_model_module_version": "1.2.0",
      "_model_name": "LayoutModel",
      "_view_count": null,
      "_view_module": "@jupyter-widgets/base",
      "_view_module_version": "1.2.0",
      "_view_name": "LayoutView",
      "align_content": null,
      "align_items": null,
      "align_self": null,
      "border": null,
      "bottom": null,
      "display": null,
      "flex": null,
      "flex_flow": null,
      "grid_area": null,
      "grid_auto_columns": null,
      "grid_auto_flow": null,
      "grid_auto_rows": null,
      "grid_column": null,
      "grid_gap": null,
      "grid_row": null,
      "grid_template_areas": null,
      "grid_template_columns": null,
      "grid_template_rows": null,
      "height": null,
      "justify_content": null,
      "justify_items": null,
      "left": null,
      "margin": null,
      "max_height": null,
      "max_width": null,
      "min_height": null,
      "min_width": null,
      "object_fit": null,
      "object_position": null,
      "order": null,
      "overflow": null,
      "overflow_x": null,
      "overflow_y": null,
      "padding": null,
      "right": null,
      "top": null,
      "visibility": null,
      "width": null
     }
    },
    "e1511fecd4014a59a8c8f054532f44ed": {
     "model_module": "@jupyter-widgets/controls",
     "model_module_version": "1.5.0",
     "model_name": "HBoxModel",
     "state": {
      "_dom_classes": [],
      "_model_module": "@jupyter-widgets/controls",
      "_model_module_version": "1.5.0",
      "_model_name": "HBoxModel",
      "_view_count": null,
      "_view_module": "@jupyter-widgets/controls",
      "_view_module_version": "1.5.0",
      "_view_name": "HBoxView",
      "box_style": "",
      "children": [
       "IPY_MODEL_6e8759bdd74748608d267c86a7fe1bd4",
       "IPY_MODEL_3fe74d49adc24b89a3e19f222b38fc58",
       "IPY_MODEL_f5947a24cc9343fb974a6efb304a9ab0"
      ],
      "layout": "IPY_MODEL_f03beba4661b4a6688adca5e34c6c479"
     }
    },
    "f03beba4661b4a6688adca5e34c6c479": {
     "model_module": "@jupyter-widgets/base",
     "model_module_version": "1.2.0",
     "model_name": "LayoutModel",
     "state": {
      "_model_module": "@jupyter-widgets/base",
      "_model_module_version": "1.2.0",
      "_model_name": "LayoutModel",
      "_view_count": null,
      "_view_module": "@jupyter-widgets/base",
      "_view_module_version": "1.2.0",
      "_view_name": "LayoutView",
      "align_content": null,
      "align_items": null,
      "align_self": null,
      "border": null,
      "bottom": null,
      "display": null,
      "flex": null,
      "flex_flow": null,
      "grid_area": null,
      "grid_auto_columns": null,
      "grid_auto_flow": null,
      "grid_auto_rows": null,
      "grid_column": null,
      "grid_gap": null,
      "grid_row": null,
      "grid_template_areas": null,
      "grid_template_columns": null,
      "grid_template_rows": null,
      "height": null,
      "justify_content": null,
      "justify_items": null,
      "left": null,
      "margin": null,
      "max_height": null,
      "max_width": null,
      "min_height": null,
      "min_width": null,
      "object_fit": null,
      "object_position": null,
      "order": null,
      "overflow": null,
      "overflow_x": null,
      "overflow_y": null,
      "padding": null,
      "right": null,
      "top": null,
      "visibility": null,
      "width": null
     }
    },
    "f3b2a4633cdb49d18ad4487b6c9a606c": {
     "model_module": "@jupyter-widgets/controls",
     "model_module_version": "1.5.0",
     "model_name": "DescriptionStyleModel",
     "state": {
      "_model_module": "@jupyter-widgets/controls",
      "_model_module_version": "1.5.0",
      "_model_name": "DescriptionStyleModel",
      "_view_count": null,
      "_view_module": "@jupyter-widgets/base",
      "_view_module_version": "1.2.0",
      "_view_name": "StyleView",
      "description_width": ""
     }
    },
    "f5947a24cc9343fb974a6efb304a9ab0": {
     "model_module": "@jupyter-widgets/controls",
     "model_module_version": "1.5.0",
     "model_name": "HTMLModel",
     "state": {
      "_dom_classes": [],
      "_model_module": "@jupyter-widgets/controls",
      "_model_module_version": "1.5.0",
      "_model_name": "HTMLModel",
      "_view_count": null,
      "_view_module": "@jupyter-widgets/controls",
      "_view_module_version": "1.5.0",
      "_view_name": "HTMLView",
      "description": "",
      "description_tooltip": null,
      "layout": "IPY_MODEL_4396494a1f4e42b9a2f2b151a5e44026",
      "placeholder": "​",
      "style": "IPY_MODEL_f3b2a4633cdb49d18ad4487b6c9a606c",
      "value": " 0/1 [00:00&lt;?, ?it/s]"
     }
    }
   }
  }
 },
 "nbformat": 4,
 "nbformat_minor": 1
}
